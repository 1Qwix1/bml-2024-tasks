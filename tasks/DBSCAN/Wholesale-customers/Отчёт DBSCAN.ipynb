{
 "cells": [
  {
   "cell_type": "markdown",
   "metadata": {},
   "source": [
    "# DBSCAN Clustering Analysis\n",
    "Студент: Казакевич Анна Юрьевна\n",
    "Группа: 5030102/10201\n",
    "\n",
    "### Теоретическая справка\n",
    "Алгоритм DBSCAN (Density-Based Spatial Clustering of Applications with Noise) используется для кластеризации данных на основе плотности.\n",
    "Он выделяет группы (кластеры) точек, которые расположены близко друг к другу, а точки, находящиеся далеко от любых кластеров, считаются шумом."
   ]
  },
  {
   "cell_type": "code",
   "execution_count": null,
   "id": "initial_id",
   "metadata": {},
   "outputs": [],
   "source": [
    "import pandas as pd\n",
    "import numpy as np\n",
    "import matplotlib.pyplot as plt\n",
    "from sklearn.preprocessing import StandardScaler\n",
    "from sklearn.cluster import DBSCAN\n",
    "from sklearn.decomposition import PCA\n",
    "from sklearn.neighbors import NearestNeighbors\n",
    "import seaborn as sns"
   ]
  },
  {
   "cell_type": "markdown",
   "metadata": {},
   "source": [
    "### 1. Загрузка данных\n",
    "Загрузка данных из файла data.csv для дальнейшего анализа и обработки."
   ]
  },
  {
   "cell_type": "code",
   "execution_count": null,
   "id": "data_loading",
   "metadata": {},
   "outputs": [],
   "source": [
    "data_path = \"data.csv\"\n",
    "df = pd.read_csv(data_path)\n",
    "df.head()"
   ]
  },
  {
   "cell_type": "markdown",
   "metadata": {},
   "source": [
    "### 2. Первичный анализ данных\n",
    "Посмотрим на первые строки данных, чтобы понять их структуру.\n",
    "Также проверим типы данных, пропуски и статистическую информацию."
   ]
  },
  {
   "cell_type": "code",
   "execution_count": null,
   "id": "eda_analysis",
   "metadata": {},
   "outputs": [],
   "source": [
    "# Первый взгляд на данные\n",
    "df.head()\n",
    "\n",
    "# Информация о данных\n",
    "df.info()\n",
    "\n",
    "# Статистика\n",
    "df.describe()\n",
    "\n",
    "# Проверка на пропуски\n",
    "df.isnull().sum()"
   ]
  },
  {
   "cell_type": "markdown",
   "metadata": {},
   "source": [
    "### 3. Визуализация данных\n",
    "Построим гистограммы для изучения распределения признаков и матрицу корреляции для анализа связей между ними."
   ]
  },
  {
   "cell_type": "code",
   "execution_count": null,
   "id": "visualization",
   "metadata": {},
   "outputs": [],
   "source": [
    "# Гистограммы\n",
    "df.hist(bins=20, figsize=(12, 10))\n",
    "plt.suptitle(\"Гистограммы данных\", fontsize=16)\n",
    "plt.show()\n",
    "\n",
    "# Матрица корреляции\n",
    "plt.figure(figsize=(10, 8))\n",
    "sns.heatmap(df.corr(), annot=True, cmap=\"coolwarm\", fmt=\".2f\")\n",
    "plt.title(\"Матрица корреляции признаков\")\n",
    "plt.show()"
   ]
  },
  {
   "cell_type": "markdown",
   "metadata": {},
   "source": [
    "### 4. Предварительная обработка данных\n",
    "Удалим категориальные признаки, заполним пропуски средними значениями и нормализуем данные."
   ]
  },
  {
   "cell_type": "code",
   "execution_count": null,
   "id": "data_preprocessing",
   "metadata": {},
   "outputs": [],
   "source": [
    "# Удаление категориальных признаков\n",
    "data = df.drop(columns=[\"Channel\", \"Region\"])\n",
    "\n",
    "# Заполнение пропусков\n",
    "data.fillna(data.mean(), inplace=True)\n",
    "\n",
    "# Нормализация данных\n",
    "scaler = StandardScaler()\n",
    "data_scaled = scaler.fit_transform(data)"
   ]
  },
  {
   "cell_type": "markdown",
   "metadata": {},
   "source": [
    "### 5. Определение оптимального значения eps\n",
    "Оптимальное значение eps определяем с помощью графика расстояний до 5-го ближайшего соседа."
   ]
  },
  {
   "cell_type": "code",
   "execution_count": null,
   "id": "eps_optimization",
   "metadata": {},
   "outputs": [],
   "source": [
    "# Поиск ближайших соседей\n",
    "neighbors = NearestNeighbors(n_neighbors=5)\n",
    "neighbors_fit = neighbors.fit(data_scaled)\n",
    "distances, indices = neighbors_fit.kneighbors(data_scaled)\n",
    "\n",
    "# Сортировка расстояний\n",
    "distances = np.sort(distances[:, 4], axis=0)\n",
    "\n",
    "# Построение графика\n",
    "plt.figure(figsize=(8, 5))\n",
    "plt.plot(distances)\n",
    "plt.title(\"Определение оптимального значения eps\")\n",
    "plt.xlabel(\"Точки данных\")\n",
    "plt.ylabel(\"Расстояние до 5-го ближайшего соседа\")\n",
    "plt.grid()\n",
    "plt.show()"
   ]
  },
  {
   "cell_type": "markdown",
   "metadata": {},
   "source": [
    "### 6. Настройка и запуск DBSCAN\n",
    "Запустим DBSCAN с различными значениями eps и min_samples.\n",
    "Для визуализации кластеров используем метод PCA для проекции данных в 2D-пространство."
   ]
  },
  {
   "cell_type": "code",
   "execution_count": null,
   "id": "dbscan_clustering",
   "metadata": {},
   "outputs": [],
   "source": [
    "# Определение значений для экспериментов\n",
    "eps_v = [1.5, 2, 2.5]\n",
    "min_samples_v = [3, 10, 15]\n",
    "\n",
    "# Визуализация результатов кластеризации\n",
    "for min_samples in min_samples_v:\n",
    "    for eps in eps_v:\n",
    "        dbscan = DBSCAN(eps=eps, min_samples=min_samples)\n",
    "        clusters = dbscan.fit_predict(data_scaled)\n",
    "\n",
    "        # Добавление кластеров в исходный DataFrame\n",
    "        df['Cluster'] = clusters\n",
    "\n",
    "        # Преобразование данных в пространство из 2 компонент\n",
    "        pca_2d = PCA(n_components=2)\n",
    "        data_2d = pca_2d.fit_transform(data_scaled)\n",
    "        df['PCA1'] = data_2d[:, 0]\n",
    "        df['PCA2'] = data_2d[:, 1]\n",
    "\n",
    "        # Визуализация кластеров\n",
    "        plt.figure(figsize=(10, 7))\n",
    "        sns.scatterplot(\n",
    "            x='PCA1', y='PCA2', hue='Cluster', data=df, \n",
    "            palette='viridis', legend=\"full\"\n",
    "        )\n",
    "        plt.title(f\"Кластеры DBSCAN при eps = {eps}, min_samples = {min_samples}\")\n",
    "        plt.show()"
   ]
  }
 ],
 "metadata": {
  "kernelspec": {
   "display_name": "Python 3",
   "language": "python",
   "name": "python3"
  },
  "language_info": {
   "codemirror_mode": {
    "name": "ipython",
    "version": 2
   },
   "file_extension": ".py",
   "mimetype": "text/x-python",
   "name": "python",
   "nbconvert_exporter": "python",
   "pygments_lexer": "ipython2",
   "version": "2.7.6"
  }
 },
 "nbformat": 4,
 "nbformat_minor": 5
}