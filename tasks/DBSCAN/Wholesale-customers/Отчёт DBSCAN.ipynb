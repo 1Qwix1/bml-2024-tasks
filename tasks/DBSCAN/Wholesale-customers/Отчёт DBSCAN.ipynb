"id": "eps_optimization",
   "metadata": {},
   "outputs": [],
   "source": [
    "# Поиск ближайших соседей\n",
    "neighbors = NearestNeighbors(n_neighbors=5)\n",
    "neighbors_fit = neighbors.fit(data_scaled)\n",
    "distances, indices = neighbors_fit.kneighbors(data_scaled)\n",
    "\n",
    "# Сортировка расстояний\n",
    "distances = np.sort(distances[:, 4], axis=0)\n",
    "\n",
    "# Построение графика\n",
    "plt.figure(figsize=(8, 5))\n",
    "plt.plot(distances)\n",
    "plt.title(\"Определение оптимального значения eps\")\n",
    "plt.xlabel(\"Точки данных\")\n",
    "plt.ylabel(\"Расстояние до 5-го ближайшего соседа\")\n",
    "plt.grid()\n",
    "plt.show()"
   ]
  },
  {
   "cell_type": "markdown",
   "metadata": {},
   "source": [
    "### 6. Настройка и запуск DBSCAN\n",
    "Запустим DBSCAN с различными значениями eps и min_samples.\n",
    "Для визуализации кластеров используем метод PCA для проекции данных в 2D-пространство."
   ]
  },
  {
   "cell_type": "code",
   "execution_count": null,
   "id": "dbscan_clustering",
   "metadata": {},
   "outputs": [],
   "source": [
    "# Определение значений для экспериментов\n",
    "eps_v = [1.5, 2, 2.5]\n",
    "min_samples_v = [3, 10, 15]\n",
    "\n",
    "# Визуализация результатов кластеризации\n",
    "for min_samples in min_samples_v:\n",
    "    for eps in eps_v:\n",
    "        dbscan = DBSCAN(eps=eps, min_samples=min_samples)\n",
    "        clusters = dbscan.fit_predict(data_scaled)\n",
    "\n",
    "        # Добавление кластеров в исходный DataFrame\n",
    "        df['Cluster'] = clusters\n",
    "\n",
    "        # Преобразование данных в пространство из 2 компонент\n",
    "        pca_2d = PCA(n_components=2)\n",
    "        data_2d = pca_2d.fit_transform(data_scaled)\n",
    "        df['PCA1'] = data_2d[:, 0]\n",
    "        df['PCA2'] = data_2d[:, 1]\n",
    "\n",
    "        # Визуализация кластеров\n",
    "        plt.figure(figsize=(10, 7))\n",
    "        sns.scatterplot(\n",
    "            x='PCA1', y='PCA2', hue='Cluster', data=df, \n",
    "            palette='viridis', legend=\"full\"\n",
    "        )\n",
    "        plt.title(f\"Кластеры DBSCAN при eps = {eps}, min_samples = {min_samples}\")\n",
    "        plt.show()"
   ]
  }
 ],
 "metadata": {
  "kernelspec": {
   "display_name": "Python 3",
   "language": "python",
   "name": "python3"
  },
  "language_info": {
   "codemirror_mode": {
    "name": "ipython",
    "version": 2
   },
   "file_extension": ".py",
   "mimetype": "text/x-python",
   "name": "python",
   "nbconvert_exporter": "python",
   "pygments_lexer": "ipython2",
   "version": "2.7.6"
  }
 },
 "nbformat": 4,
 "nbformat_minor": 5
}